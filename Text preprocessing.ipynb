{
 "cells": [
  {
   "cell_type": "markdown",
   "id": "1398994b",
   "metadata": {},
   "source": [
    "### NLTK - Natural Language Tool Kit"
   ]
  },
  {
   "cell_type": "code",
   "execution_count": 1,
   "id": "5b046652",
   "metadata": {},
   "outputs": [
    {
     "name": "stderr",
     "output_type": "stream",
     "text": [
      "C:\\Users\\HP\\anaconda3\\lib\\site-packages\\scipy\\__init__.py:146: UserWarning: A NumPy version >=1.16.5 and <1.23.0 is required for this version of SciPy (detected version 1.26.4\n",
      "  warnings.warn(f\"A NumPy version >={np_minversion} and <{np_maxversion}\"\n"
     ]
    }
   ],
   "source": [
    "import nltk"
   ]
  },
  {
   "cell_type": "markdown",
   "id": "587a4782",
   "metadata": {},
   "source": [
    "#### Tokenization\n",
    " "
   ]
  },
  {
   "cell_type": "code",
   "execution_count": 4,
   "id": "713749b8",
   "metadata": {},
   "outputs": [
    {
     "name": "stderr",
     "output_type": "stream",
     "text": [
      "[nltk_data] Downloading package punkt to\n",
      "[nltk_data]     C:\\Users\\HP\\AppData\\Roaming\\nltk_data...\n",
      "[nltk_data]   Unzipping tokenizers\\punkt.zip.\n"
     ]
    },
    {
     "data": {
      "text/plain": [
       "True"
      ]
     },
     "execution_count": 4,
     "metadata": {},
     "output_type": "execute_result"
    }
   ],
   "source": [
    "# nltk.download('punkt')"
   ]
  },
  {
   "cell_type": "code",
   "execution_count": 5,
   "id": "17bc3cdc",
   "metadata": {},
   "outputs": [
    {
     "data": {
      "text/plain": [
       "['Tokenization',\n",
       " ',',\n",
       " 'in',\n",
       " 'the',\n",
       " 'realm',\n",
       " 'of',\n",
       " 'Natural',\n",
       " 'Language',\n",
       " 'Processing',\n",
       " '(',\n",
       " 'NLP',\n",
       " ')',\n",
       " 'and',\n",
       " 'machine',\n",
       " 'learning',\n",
       " ',',\n",
       " 'refers',\n",
       " 'to',\n",
       " 'the',\n",
       " 'process',\n",
       " 'of',\n",
       " 'converting',\n",
       " 'a',\n",
       " 'sequence',\n",
       " 'of',\n",
       " 'text',\n",
       " 'into',\n",
       " 'smaller',\n",
       " 'parts',\n",
       " ',',\n",
       " 'known',\n",
       " 'as',\n",
       " 'tokens',\n",
       " '.',\n",
       " 'These',\n",
       " 'tokens',\n",
       " 'can',\n",
       " 'be',\n",
       " 'as',\n",
       " 'small',\n",
       " 'as',\n",
       " 'characters',\n",
       " 'or',\n",
       " 'as',\n",
       " 'long',\n",
       " 'as',\n",
       " 'words',\n",
       " '.']"
      ]
     },
     "execution_count": 5,
     "metadata": {},
     "output_type": "execute_result"
    }
   ],
   "source": [
    "from nltk.tokenize import word_tokenize,sent_tokenize\n",
    "text='''Tokenization, in the realm of Natural Language Processing (NLP) and machine learning, \n",
    "refers to the process of converting a sequence of text into smaller parts, known as tokens. \n",
    "These tokens can be as small as characters or as long as words.'''\n",
    "word_tokenize(text)"
   ]
  },
  {
   "cell_type": "code",
   "execution_count": 6,
   "id": "87fee546",
   "metadata": {},
   "outputs": [
    {
     "data": {
      "text/plain": [
       "['Tokenization, in the realm of Natural Language Processing (NLP) and machine learning, \\nrefers to the process of converting a sequence of text into smaller parts, known as tokens.',\n",
       " 'These tokens can be as small as characters or as long as words.']"
      ]
     },
     "execution_count": 6,
     "metadata": {},
     "output_type": "execute_result"
    }
   ],
   "source": [
    "sent_tokenize(text)"
   ]
  },
  {
   "cell_type": "markdown",
   "id": "51f548a7",
   "metadata": {},
   "source": [
    "### Stemming"
   ]
  },
  {
   "cell_type": "code",
   "execution_count": 9,
   "id": "027d1a3b",
   "metadata": {},
   "outputs": [
    {
     "name": "stdout",
     "output_type": "stream",
     "text": [
      "Original word: He\n",
      "Stemmed word: he\n",
      "Original word: captures\n",
      "Stemmed word: captur\n",
      "Original word: beautiful\n",
      "Stemmed word: beauti\n",
      "Original word: pictures\n",
      "Stemmed word: pictur\n"
     ]
    }
   ],
   "source": [
    "from nltk.stem import PorterStemmer\n",
    "\n",
    "text='He captures beautiful pictures'\n",
    "word = word_tokenize(text)\n",
    "ps =PorterStemmer()\n",
    "for w in word:\n",
    "    print('Original word:',w)\n",
    "    print(\"Stemmed word:\",ps.stem(w))"
   ]
  },
  {
   "cell_type": "markdown",
   "id": "36a826bb",
   "metadata": {},
   "source": [
    "### Lemmatization"
   ]
  },
  {
   "cell_type": "code",
   "execution_count": 15,
   "id": "74534a68",
   "metadata": {},
   "outputs": [],
   "source": [
    "# nltk.download('wordnet')"
   ]
  },
  {
   "cell_type": "code",
   "execution_count": 16,
   "id": "4205fc9a",
   "metadata": {},
   "outputs": [
    {
     "name": "stdout",
     "output_type": "stream",
     "text": [
      "Original word: He\n",
      "Lemmetized word: He\n",
      "Original word: captures\n",
      "Lemmetized word: capture\n",
      "Original word: beautiful\n",
      "Lemmetized word: beautiful\n",
      "Original word: pictures\n",
      "Lemmetized word: picture\n"
     ]
    }
   ],
   "source": [
    "from nltk.stem import WordNetLemmatizer\n",
    "wnl=WordNetLemmatizer()\n",
    "\n",
    "for w in word:\n",
    "    print(\"Original word:\",w)\n",
    "    print(\"Lemmetized word:\",wnl.lemmatize(w))"
   ]
  },
  {
   "cell_type": "markdown",
   "id": "06f1d956",
   "metadata": {},
   "source": [
    "### Stop word removal"
   ]
  },
  {
   "cell_type": "code",
   "execution_count": 20,
   "id": "b7362828",
   "metadata": {},
   "outputs": [],
   "source": [
    "# nltk.download('stopwords')"
   ]
  },
  {
   "cell_type": "code",
   "execution_count": 23,
   "id": "b3d8ea01",
   "metadata": {},
   "outputs": [
    {
     "name": "stdout",
     "output_type": "stream",
     "text": [
      "apple day keeps disease bay "
     ]
    }
   ],
   "source": [
    "from nltk.corpus import stopwords  #A corpus is a collection of authentic text or audio organized into datasets.\n",
    "stop_words = stopwords.words('english')\n",
    "# print(stopwords)\n",
    "\n",
    "example_sent =\"An Apple a day keeps disease at bay\"\n",
    "example_sent=example_sent.lower()\n",
    "word_tokens=word_tokenize(example_sent)\n",
    "for word in word_tokens:\n",
    "    if word not in stop_words:\n",
    "        print(word,end=' ')"
   ]
  },
  {
   "cell_type": "code",
   "execution_count": null,
   "id": "071f5754",
   "metadata": {},
   "outputs": [],
   "source": []
  }
 ],
 "metadata": {
  "kernelspec": {
   "display_name": "Python 3 (ipykernel)",
   "language": "python",
   "name": "python3"
  },
  "language_info": {
   "codemirror_mode": {
    "name": "ipython",
    "version": 3
   },
   "file_extension": ".py",
   "mimetype": "text/x-python",
   "name": "python",
   "nbconvert_exporter": "python",
   "pygments_lexer": "ipython3",
   "version": "3.9.7"
  }
 },
 "nbformat": 4,
 "nbformat_minor": 5
}
